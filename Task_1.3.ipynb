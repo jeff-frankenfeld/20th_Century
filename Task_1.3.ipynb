{
 "cells": [
  {
   "cell_type": "markdown",
   "id": "c569f941-69ea-471c-a338-a5146a4b712b",
   "metadata": {},
   "source": [
    "# Task 1.3"
   ]
  },
  {
   "cell_type": "markdown",
   "id": "1220b4cf-f827-423a-944f-72c0808ebcad",
   "metadata": {},
   "source": [
    "### 5. Create random data using the pd.DataFrame() function in your new notebook."
   ]
  },
  {
   "cell_type": "code",
   "execution_count": 2,
   "id": "714ac8db-30ae-4eb3-a352-15f4f354dace",
   "metadata": {},
   "outputs": [],
   "source": [
    "import pandas as pd\n",
    "import numpy as np"
   ]
  },
  {
   "cell_type": "code",
   "execution_count": 3,
   "id": "8b0c9e65-4e6a-4446-90df-41b8ff206539",
   "metadata": {},
   "outputs": [
    {
     "name": "stdout",
     "output_type": "stream",
     "text": [
      "      Name  Age      Score         City\n",
      "0    Alice   48  89.794833     New York\n",
      "1      Bob   25  52.639478  Los Angeles\n",
      "2  Charlie   21  79.063349      Chicago\n",
      "3    Diana   42  55.607177      Houston\n",
      "4    Ethan   39  51.495399      Phoenix\n"
     ]
    }
   ],
   "source": [
    "# Creating a random test DataFrame\n",
    "data = pd.DataFrame({\n",
    "    \"Name\": [\"Alice\", \"Bob\", \"Charlie\", \"Diana\", \"Ethan\"],\n",
    "    \"Age\": np.random.randint(20, 50, size=5),  # Random ages between 20 and 50\n",
    "    \"Score\": np.random.uniform(50.0, 100.0, size=5),  # Random scores between 50.0 and 100.0\n",
    "    \"City\": [\"New York\", \"Los Angeles\", \"Chicago\", \"Houston\", \"Phoenix\"]\n",
    "})\n",
    "\n",
    "# Display the DataFrame\n",
    "print(data)"
   ]
  },
  {
   "cell_type": "markdown",
   "id": "346cc684-f001-4e5b-88bb-4a75e04ab4e6",
   "metadata": {},
   "source": [
    "### 6. Create a new column and execute a mathematical procedure in one of the existing columns using a lambda function"
   ]
  },
  {
   "cell_type": "code",
   "execution_count": 4,
   "id": "e2bb44d1-67ab-4d25-b1de-36a35841b39c",
   "metadata": {},
   "outputs": [
    {
     "name": "stdout",
     "output_type": "stream",
     "text": [
      "      Name  Age      Score         City  Score_Percentage\n",
      "0    Alice   48  89.794833     New York          8.979483\n",
      "1      Bob   25  52.639478  Los Angeles          5.263948\n",
      "2  Charlie   21  79.063349      Chicago          7.906335\n",
      "3    Diana   42  55.607177      Houston          5.560718\n",
      "4    Ethan   39  51.495399      Phoenix          5.149540\n"
     ]
    }
   ],
   "source": [
    "# Creating a new column using a lambda function\n",
    "data['Score_Percentage'] = data['Score'].apply(lambda x: x / 10)\n",
    "\n",
    "# Display the updated DataFrame\n",
    "print(data)"
   ]
  },
  {
   "cell_type": "markdown",
   "id": "d5a36e79-88ca-4b22-87ee-abe57f72ce2f",
   "metadata": {},
   "source": [
    "### 7. Create a flag column from the text column in your example dataframe using a lambda function"
   ]
  },
  {
   "cell_type": "code",
   "execution_count": 7,
   "id": "2d97d446-f303-402f-a22e-750024bfb29b",
   "metadata": {},
   "outputs": [
    {
     "name": "stdout",
     "output_type": "stream",
     "text": [
      "      Name  Age      Score         City  Score_Percentage  \\\n",
      "0    Alice   48  89.794833     New York          8.979483   \n",
      "1      Bob   25  52.639478  Los Angeles          5.263948   \n",
      "2  Charlie   21  79.063349      Chicago          7.906335   \n",
      "3    Diana   42  55.607177      Houston          5.560718   \n",
      "4    Ethan   39  51.495399      Phoenix          5.149540   \n",
      "\n",
      "   High_Percentage_Flag  \n",
      "0                     1  \n",
      "1                     0  \n",
      "2                     1  \n",
      "3                     0  \n",
      "4                     0  \n"
     ]
    }
   ],
   "source": [
    "# Creating a flag column: Is Score_Percentage >= 8?\n",
    "data['High_Percentage_Flag'] = data['Score_Percentage'].apply(lambda x: 1 if x >= 7 else 0)\n",
    "\n",
    "# Display the updated DataFrame\n",
    "print(data)"
   ]
  },
  {
   "cell_type": "code",
   "execution_count": null,
   "id": "05668497-33d8-40ec-858b-35fefd45a40e",
   "metadata": {},
   "outputs": [],
   "source": []
  }
 ],
 "metadata": {
  "kernelspec": {
   "display_name": "Python (20th_century)",
   "language": "python",
   "name": "20th_century"
  },
  "language_info": {
   "codemirror_mode": {
    "name": "ipython",
    "version": 3
   },
   "file_extension": ".py",
   "mimetype": "text/x-python",
   "name": "python",
   "nbconvert_exporter": "python",
   "pygments_lexer": "ipython3",
   "version": "3.12.7"
  }
 },
 "nbformat": 4,
 "nbformat_minor": 5
}
